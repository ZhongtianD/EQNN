{
 "cells": [
  {
   "cell_type": "code",
   "execution_count": 1,
   "id": "51637302",
   "metadata": {},
   "outputs": [],
   "source": [
    "import pennylane as qml\n",
    "from pennylane import numpy as pnp\n",
    "import numpy as np\n",
    "from pennylane.optimize import AdamOptimizer, GradientDescentOptimizer\n",
    "\n",
    "import matplotlib.pyplot as plt\n",
    "from matplotlib import colors"
   ]
  },
  {
   "cell_type": "code",
   "execution_count": 2,
   "id": "18158aca",
   "metadata": {},
   "outputs": [],
   "source": [
    "#follows https://github.com/XanaduAI/all-you-need-is-spin\n",
    "class Spin_2(qml.operation.Operation):\n",
    "    num_wires = 2\n",
    "\n",
    "    @staticmethod\n",
    "    def compute_decomposition(theta, wires):\n",
    "        schur2 = np.array([\n",
    "            [1, 0, 0, 0],\n",
    "            [0, 1/np.sqrt(2), 1/np.sqrt(2), 0],\n",
    "            [0, 0, 0, 1],\n",
    "            [0, 1/np.sqrt(2), -1/np.sqrt(2), 0]\n",
    "        ])\n",
    "    \n",
    "        return [qml.QubitUnitary(schur2, wires = wires),\n",
    "                qml.ControlledPhaseShift(theta, wires = wires),\n",
    "                qml.adjoint(qml.QubitUnitary)(schur2, wires = wires)]\n",
    "\n",
    "def create_singlet(i, j):\n",
    "    qml.Hadamard(wires=i)\n",
    "    qml.PauliZ(wires=i)\n",
    "    qml.CNOT(wires=[i, j])\n",
    "    qml.PauliX(wires=j)"
   ]
  },
  {
   "cell_type": "code",
   "execution_count": 3,
   "id": "4b65d7d8",
   "metadata": {},
   "outputs": [],
   "source": [
    "def create_Heisenberg(N, J1, J2):\n",
    "    H = sum([J1 * qml.PauliZ(i) @ qml.PauliZ((i + 1) % N) for i in range(N)])\n",
    "    H += sum([J1 * qml.PauliX(i) @ qml.PauliX((i + 1) % N) for i in range(N)])\n",
    "    H += sum([J1 * qml.PauliY(i) @ qml.PauliY((i + 1) % N) for i in range(N)])\n",
    "\n",
    "    H += sum([J2 * qml.PauliZ(i) @ qml.PauliZ((i + 2) % N) for i in range(N)])\n",
    "    H += sum([J2 * qml.PauliX(i) @ qml.PauliX((i + 2) % N) for i in range(N)])\n",
    "    H += sum([J2 * qml.PauliY(i) @ qml.PauliY((i + 2) % N) for i in range(N)])\n",
    "\n",
    "    return H\n",
    "\n",
    "def prepare_init_state(N):\n",
    "    for i in range(0, N, 2):\n",
    "        create_singlet(i, i+1)"
   ]
  },
  {
   "cell_type": "code",
   "execution_count": 4,
   "id": "0cda108e",
   "metadata": {},
   "outputs": [],
   "source": [
    "dev = qml.device(\"default.qubit\", wires=4)\n",
    "N = 4\n",
    "\n",
    "ham = create_Heisenberg(N, 1.0, 0.44)\n",
    "# ham_sparse = qml.SparseHamiltonian(ham.sparse_matrix(), wires=range(N))\n",
    "\n",
    "@qml.qnode(dev)\n",
    "def circuit_2qubits(params):\n",
    "    prepare_init_state(N)\n",
    "    \n",
    "#     p0 = [0.5,0.3,0.2]\n",
    "#     qml.Rot(*p0, wires=0)\n",
    "#     qml.Rot(*p0, wires=1)\n",
    "#     qml.Rot(*p0, wires=2)\n",
    "#     qml.Rot(*p0, wires=3)\n",
    "    \n",
    "    k = 0\n",
    "    for l in range(4):\n",
    "        for i in range(0, N, 2):\n",
    "            Spin_2(params[k], wires=[i, (i + 1) % N])\n",
    "            k += 1\n",
    "\n",
    "        for i in range(1, N, 2):\n",
    "            Spin_2(params[k], wires=[i, (i + 1) % N])\n",
    "            k += 1\n",
    "\n",
    "        for i in range(0, N):\n",
    "            Spin_2(params[k], wires=[i, (i + 2) % N])\n",
    "            k += 1\n",
    "\n",
    "    return qml.expval(ham)"
   ]
  },
  {
   "cell_type": "code",
   "execution_count": 5,
   "id": "08a179b7",
   "metadata": {},
   "outputs": [
    {
     "name": "stdout",
     "output_type": "stream",
     "text": [
      "-5.841205381008374\n"
     ]
    }
   ],
   "source": [
    "#testing to see if the circuits is indeed SU(2) invariant under SU(2) rotation\n",
    "Params = pnp.random.rand(50, requires_grad=False)\n",
    "\n",
    "K = circuit_2qubits(Params)\n",
    "\n",
    "print(K)"
   ]
  },
  {
   "cell_type": "code",
   "execution_count": 6,
   "id": "778c5a18",
   "metadata": {},
   "outputs": [
    {
     "name": "stdout",
     "output_type": "stream",
     "text": [
      "-5.841205381008365\n"
     ]
    }
   ],
   "source": [
    "# run this cell afer induce an overall rotation in the circuit\n",
    "@qml.qnode(dev)\n",
    "def circuit_2qubits(params):\n",
    "    prepare_init_state(N)\n",
    "    \n",
    "    #some arbitrary parameters\n",
    "    p0 = [0.5,0.3,0.2]\n",
    "    qml.Rot(*p0, wires=0)\n",
    "    qml.Rot(*p0, wires=1)\n",
    "    qml.Rot(*p0, wires=2)\n",
    "    qml.Rot(*p0, wires=3)\n",
    "    \n",
    "    k = 0\n",
    "    for l in range(4):\n",
    "        for i in range(0, N, 2):\n",
    "            Spin_2(params[k], wires=[i, (i + 1) % N])\n",
    "            k += 1\n",
    "\n",
    "        for i in range(1, N, 2):\n",
    "            Spin_2(params[k], wires=[i, (i + 1) % N])\n",
    "            k += 1\n",
    "\n",
    "        for i in range(0, N):\n",
    "            Spin_2(params[k], wires=[i, (i + 2) % N])\n",
    "            k += 1\n",
    "\n",
    "    return qml.expval(ham)\n",
    "\n",
    "K = circuit_2qubits(Params)\n",
    "\n",
    "print(K)"
   ]
  },
  {
   "cell_type": "code",
   "execution_count": 7,
   "id": "e1deb736",
   "metadata": {},
   "outputs": [
    {
     "name": "stdout",
     "output_type": "stream",
     "text": [
      "-5.329856917829823\n"
     ]
    }
   ],
   "source": [
    "# run this cell afer induce a rotation on only one qubit in the circuit should change the result\n",
    "@qml.qnode(dev)\n",
    "def circuit_2qubits(params):\n",
    "    prepare_init_state(N)\n",
    "    \n",
    "    p0 = [0.5,0.3,0.2]\n",
    "    qml.Rot(*p0, wires=0)\n",
    "#     qml.Rot(*p0, wires=1)\n",
    "#     qml.Rot(*p0, wires=2)\n",
    "#     qml.Rot(*p0, wires=3)\n",
    "    \n",
    "    k = 0\n",
    "    for l in range(4):\n",
    "        for i in range(0, N, 2):\n",
    "            Spin_2(params[k], wires=[i, (i + 1) % N])\n",
    "            k += 1\n",
    "\n",
    "        for i in range(1, N, 2):\n",
    "            Spin_2(params[k], wires=[i, (i + 1) % N])\n",
    "            k += 1\n",
    "\n",
    "        for i in range(0, N):\n",
    "            Spin_2(params[k], wires=[i, (i + 2) % N])\n",
    "            k += 1\n",
    "\n",
    "    return qml.expval(ham)\n",
    "\n",
    "K = circuit_2qubits(Params)\n",
    "\n",
    "print(K)"
   ]
  },
  {
   "cell_type": "code",
   "execution_count": 9,
   "id": "911ba1f0",
   "metadata": {},
   "outputs": [
    {
     "name": "stdout",
     "output_type": "stream",
     "text": [
      "-5.841205381008367\n"
     ]
    }
   ],
   "source": [
    "# run this cell afer induce a rotation on two of the neighbouring qubit in the circuit does not change the result, which is by design but unwanted.\n",
    "@qml.qnode(dev)\n",
    "def circuit_2qubits(params):\n",
    "    prepare_init_state(N)\n",
    "    \n",
    "    p0 = [0.5,0.3,0.2]\n",
    "    qml.Rot(*p0, wires=0)\n",
    "    qml.Rot(*p0, wires=1)\n",
    "#     qml.Rot(*p0, wires=2)\n",
    "#     qml.Rot(*p0, wires=3)\n",
    "    \n",
    "    k = 0\n",
    "    for l in range(4):\n",
    "        for i in range(0, N, 2):\n",
    "            Spin_2(params[k], wires=[i, (i + 1) % N])\n",
    "            k += 1\n",
    "\n",
    "        for i in range(1, N, 2):\n",
    "            Spin_2(params[k], wires=[i, (i + 1) % N])\n",
    "            k += 1\n",
    "\n",
    "        for i in range(0, N):\n",
    "            Spin_2(params[k], wires=[i, (i + 2) % N])\n",
    "            k += 1\n",
    "\n",
    "    return qml.expval(ham)\n",
    "\n",
    "K = circuit_2qubits(Params)\n",
    "\n",
    "print(K)"
   ]
  },
  {
   "cell_type": "code",
   "execution_count": 11,
   "id": "73f414cf",
   "metadata": {},
   "outputs": [
    {
     "name": "stdout",
     "output_type": "stream",
     "text": [
      "-4.737422573249601\n"
     ]
    }
   ],
   "source": [
    "# run this cell afer induce a rotation on two of the non-neighbouring qubit in the circuit does change the result.\n",
    "@qml.qnode(dev)\n",
    "def circuit_2qubits(params):\n",
    "    prepare_init_state(N)\n",
    "    \n",
    "    p0 = [0.5,0.3,0.2]\n",
    "    qml.Rot(*p0, wires=0)\n",
    "#     qml.Rot(*p0, wires=1)\n",
    "    qml.Rot(*p0, wires=2)\n",
    "#     qml.Rot(*p0, wires=3)\n",
    "    \n",
    "    k = 0\n",
    "    for l in range(4):\n",
    "        for i in range(0, N, 2):\n",
    "            Spin_2(params[k], wires=[i, (i + 1) % N])\n",
    "            k += 1\n",
    "\n",
    "        for i in range(1, N, 2):\n",
    "            Spin_2(params[k], wires=[i, (i + 1) % N])\n",
    "            k += 1\n",
    "\n",
    "        for i in range(0, N):\n",
    "            Spin_2(params[k], wires=[i, (i + 2) % N])\n",
    "            k += 1\n",
    "\n",
    "    return qml.expval(ham)\n",
    "\n",
    "K = circuit_2qubits(Params)\n",
    "\n",
    "print(K)"
   ]
  },
  {
   "cell_type": "code",
   "execution_count": null,
   "id": "81fe588b",
   "metadata": {},
   "outputs": [],
   "source": []
  }
 ],
 "metadata": {
  "kernelspec": {
   "display_name": "Python 3 (ipykernel)",
   "language": "python",
   "name": "python3"
  },
  "language_info": {
   "codemirror_mode": {
    "name": "ipython",
    "version": 3
   },
   "file_extension": ".py",
   "mimetype": "text/x-python",
   "name": "python",
   "nbconvert_exporter": "python",
   "pygments_lexer": "ipython3",
   "version": "3.8.3"
  }
 },
 "nbformat": 4,
 "nbformat_minor": 5
}
