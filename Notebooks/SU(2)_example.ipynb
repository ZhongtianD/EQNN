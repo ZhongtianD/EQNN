{
 "cells": [
  {
   "cell_type": "code",
   "execution_count": 1,
   "id": "752ee0cb",
   "metadata": {},
   "outputs": [],
   "source": [
    "import pennylane as qml\n",
    "from pennylane import numpy as np\n",
    "from pennylane.optimize import AdamOptimizer, GradientDescentOptimizer\n",
    "\n",
    "import matplotlib.pyplot as plt\n",
    "from matplotlib import colors\n",
    "import itertools"
   ]
  },
  {
   "cell_type": "code",
   "execution_count": 2,
   "id": "17cb8811",
   "metadata": {},
   "outputs": [],
   "source": [
    "# @qml.op_transform\n",
    "# def trace(op):\n",
    "#     try:\n",
    "#         return qml.math.real(qml.math.sum(op.eigvals()))\n",
    "#     except qml.operation.EigvalsUndefinedError:\n",
    "#         return qml.math.real(qml.math.trace(op.matrix()))"
   ]
  },
  {
   "cell_type": "code",
   "execution_count": 3,
   "id": "95d566f0",
   "metadata": {},
   "outputs": [],
   "source": [
    "\n",
    "\n",
    "dev = qml.device(\"default.qubit\", wires=4)\n",
    "\n",
    "def levi_civita(i,j,k):\n",
    "    return (i-j)*(j-k)*(k-i)/2\n",
    "\n",
    "\n",
    "@qml.qnode(dev, interface = 'autograd')\n",
    "def qcircuit0(x,param, index):\n",
    "    p0 = [0.1,0.3,0.2]\n",
    "\n",
    "    qml.Rot(*x[0], wires=0)\n",
    "    qml.Rot(*x[1], wires=1)\n",
    "    qml.Rot(*x[2], wires=2)\n",
    "    qml.Rot(*x[3], wires=3)\n",
    "    \n",
    "#     qml.Rot(*p0, wires=0)\n",
    "#     qml.Rot(*p0, wires=1)\n",
    "#     qml.Rot(*p0, wires=2)\n",
    "#     qml.Rot(*p0, wires=3)\n",
    "\n",
    "    #equivariant ops\n",
    "    qml.exp(qml.SWAP(wires=[0,1]), coeff=-0.5j*param[0])\n",
    "    qml.exp(qml.SWAP(wires=[2,3]), coeff=-0.5j*param[1])\n",
    "    qml.exp(qml.SWAP(wires=[1,2]), coeff=-0.5j*param[2])\n",
    "    qml.exp(qml.SWAP(wires=[3,0]), coeff=-0.5j*param[3])\n",
    "    \n",
    "#     print(qml.density_matrix([0,1]))\n",
    "    if index==0:\n",
    "        return qml.density_matrix([0,1])\n",
    "    elif index==1:\n",
    "        return qml.density_matrix([2,3])\n",
    "    elif len(index)==2:\n",
    "        return qml.density_matrix([index[1]])\n",
    "\n",
    "dev2 = qml.device('default.mixed', wires=4)\n",
    "@qml.qnode(dev2, interface = 'autograd')\n",
    "def qcircuit1(rho,y, param):\n",
    "    qml.QubitDensityMatrix(rho, wires=[0,1])\n",
    "    \n",
    "#     p0 = [0.1,0.3,0.2]\n",
    "#     qml.Rot(*p0, wires=0)\n",
    "#     qml.Rot(*p0, wires=1)\n",
    "#     qml.exp(qml.SWAP(wires=[0,1]), coeff=-0.5j*param[0])\n",
    "    \n",
    "    return qml.expval(qml.Hermitian(y, wires=[0,1]))\n",
    "\n",
    "def compute_phis(rho , rhos, P):\n",
    "    phi1 = qml.matrix(np.trace(rho)*qml.Identity(wires = 0))/2\n",
    "    phi2 = rhos[0]-phi1\n",
    "    phi3 = rhos[1]-phi1\n",
    "    Pauli = [qml.matrix(qml.PauliX(wires = 0)+qml.PauliX(wires = 1)),qml.matrix(qml.PauliY(wires = 0)+qml.PauliY(wires = 1)),qml.matrix(qml.PauliZ(wires = 0)+qml.PauliZ(wires = 1))]\n",
    "    pauli =[qml.matrix(qml.PauliX(wires = 0)),qml.matrix(qml.PauliY(wires = 0)),qml.matrix(qml.PauliZ(wires = 0))] \n",
    "    phi4 = np.zeros((2,2),dtype='complex128')\n",
    "    for i,j,k in itertools.permutations([0,1,2]):\n",
    "        phi4+= np.trace(rho*Pauli[i]*Pauli[j])*levi_civita(i,j,k)*pauli[k]\n",
    "        \n",
    "    return phi1+P[0]*phi2+P[1]*phi3+P[2]*phi4"
   ]
  },
  {
   "cell_type": "code",
   "execution_count": 4,
   "id": "9f4f953e",
   "metadata": {},
   "outputs": [],
   "source": [
    "def full_circuit(X, Params, VectorParams):\n",
    "    \n",
    "    Observ = qml.matrix(qml.SWAP(wires=[0,1]))\n",
    "    densities = np.zeros((2,4,4),dtype='complex128')\n",
    "    densities_single = np.zeros((4,2,2),dtype='complex128')\n",
    "    for i in range(2):\n",
    "        densities[i] = qcircuit0(x = X, param = Params,index=i)\n",
    "    for i in range(4):\n",
    "        densities_single[i] = qcircuit0(x = X, param = Params,index=[2,i])\n",
    "    phi0 = compute_phis(densities[0],densities_single[0:2],VectorParams[0])\n",
    "    phi1 = compute_phis(densities[1],densities_single[2:4],VectorParams[1])\n",
    "    Rho = np.kron(phi0,phi1)\n",
    "#     print(Rho)\n",
    "#    print(qml.math.purity(Rho, [0, 1]))\n",
    "    out = qcircuit1(Rho,y=Observ,param = [Params[-1]])\n",
    "    \n",
    "    return out"
   ]
  },
  {
   "cell_type": "code",
   "execution_count": 5,
   "id": "ad9464b2",
   "metadata": {},
   "outputs": [],
   "source": [
    "Params = np.random.rand(5, requires_grad=False)\n",
    "VectorParams = np.random.rand(2,3, requires_grad=False)\n",
    "X = np.random.rand(4, 3, requires_grad=False)\n",
    "\n",
    "K = full_circuit(X, Params, VectorParams)"
   ]
  },
  {
   "cell_type": "code",
   "execution_count": 6,
   "id": "c9227987",
   "metadata": {},
   "outputs": [
    {
     "name": "stdout",
     "output_type": "stream",
     "text": [
      "0.7823179477205525\n"
     ]
    }
   ],
   "source": [
    "print(K)"
   ]
  },
  {
   "cell_type": "markdown",
   "id": "b668b818",
   "metadata": {},
   "source": [
    "If we add an overall SU(2) rotation at the input stage, the result does not change"
   ]
  },
  {
   "cell_type": "code",
   "execution_count": 7,
   "id": "05e317e7",
   "metadata": {},
   "outputs": [
    {
     "name": "stdout",
     "output_type": "stream",
     "text": [
      "0.7823179477205499\n"
     ]
    }
   ],
   "source": [
    "@qml.qnode(dev, interface = 'autograd')\n",
    "def qcircuit0(x,param, index):\n",
    "    p0 = [0.1,0.3,0.2]\n",
    "\n",
    "    qml.Rot(*x[0], wires=0)\n",
    "    qml.Rot(*x[1], wires=1)\n",
    "    qml.Rot(*x[2], wires=2)\n",
    "    qml.Rot(*x[3], wires=3)\n",
    "    \n",
    "    qml.Rot(*p0, wires=0)\n",
    "    qml.Rot(*p0, wires=1)\n",
    "    qml.Rot(*p0, wires=2)\n",
    "    qml.Rot(*p0, wires=3)\n",
    "\n",
    "    #equivariant ops\n",
    "    qml.exp(qml.SWAP(wires=[0,1]), coeff=-0.5j*param[0])\n",
    "    qml.exp(qml.SWAP(wires=[2,3]), coeff=-0.5j*param[1])\n",
    "    qml.exp(qml.SWAP(wires=[1,2]), coeff=-0.5j*param[2])\n",
    "    qml.exp(qml.SWAP(wires=[3,0]), coeff=-0.5j*param[3])\n",
    "    \n",
    "#     print(qml.density_matrix([0,1]))\n",
    "    if index==0:\n",
    "        return qml.density_matrix([0,1])\n",
    "    elif index==1:\n",
    "        return qml.density_matrix([2,3])\n",
    "    elif len(index)==2:\n",
    "        return qml.density_matrix([index[1]])\n",
    "    \n",
    "K = full_circuit(X, Params, VectorParams)\n",
    "print(K)"
   ]
  },
  {
   "cell_type": "markdown",
   "id": "88de9749",
   "metadata": {},
   "source": [
    "In fact, this Symmetry can occur at any stage of the circuit and does not change the result, hence shows that all the operators are indeed equivariant."
   ]
  },
  {
   "cell_type": "code",
   "execution_count": 8,
   "id": "e32ffedf",
   "metadata": {},
   "outputs": [
    {
     "name": "stdout",
     "output_type": "stream",
     "text": [
      "0.7823179477205499\n"
     ]
    }
   ],
   "source": [
    "@qml.qnode(dev2, interface = 'autograd')\n",
    "def qcircuit1(rho,y, param):\n",
    "    qml.QubitDensityMatrix(rho, wires=[0,1])\n",
    "    \n",
    "#     p0 = [0.1,0.3,0.2]\n",
    "#     qml.Rot(*p0, wires=0)\n",
    "#     qml.Rot(*p0, wires=1)\n",
    "#     qml.exp(qml.SWAP(wires=[0,1]), coeff=-0.5j*param[0])\n",
    "    \n",
    "    return qml.expval(qml.Hermitian(y, wires=[0,1]))\n",
    "\n",
    "K = full_circuit(X, Params, VectorParams)\n",
    "print(K)"
   ]
  }
 ],
 "metadata": {
  "kernelspec": {
   "display_name": "Python 3 (ipykernel)",
   "language": "python",
   "name": "python3"
  },
  "language_info": {
   "codemirror_mode": {
    "name": "ipython",
    "version": 3
   },
   "file_extension": ".py",
   "mimetype": "text/x-python",
   "name": "python",
   "nbconvert_exporter": "python",
   "pygments_lexer": "ipython3",
   "version": "3.8.3"
  }
 },
 "nbformat": 4,
 "nbformat_minor": 5
}
